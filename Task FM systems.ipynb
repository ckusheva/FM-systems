{
 "cells": [
  {
   "cell_type": "markdown",
   "metadata": {},
   "source": [
    "### Rifiniti Data Analysis Quiz "
   ]
  },
  {
   "cell_type": "code",
   "execution_count": 1,
   "metadata": {},
   "outputs": [],
   "source": [
    "import numpy as np\n",
    "import pandas as pd\n",
    "import scipy\n",
    "import matplotlib.pyplot as plt\n",
    "import seaborn as sns\n",
    "from sklearn.svm import SVC\n",
    "from sklearn.model_selection import train_test_split\n",
    "import gc\n",
    "\n",
    "%matplotlib inline"
   ]
  },
  {
   "cell_type": "markdown",
   "metadata": {},
   "source": [
    "Loading the data"
   ]
  },
  {
   "cell_type": "code",
   "execution_count": 2,
   "metadata": {},
   "outputs": [],
   "source": [
    "df = pd.read_excel('Employee_Attributes_3-15-2018.xlsx' ) \n"
   ]
  },
  {
   "cell_type": "code",
   "execution_count": 3,
   "metadata": {},
   "outputs": [],
   "source": [
    "main = pd.read_excel('Activity Report 041318.xlsx', sheet_name = 0)"
   ]
  },
  {
   "cell_type": "code",
   "execution_count": 4,
   "metadata": {},
   "outputs": [],
   "source": [
    "front  = pd.read_excel('Activity Report 041318.xlsx', sheet_name = 1)\n",
    "exterior = pd.read_excel('Activity Report 041318.xlsx', sheet_name = 2)\n",
    "interior  = pd.read_excel('Activity Report 041318.xlsx', sheet_name = 3)\n",
    "lobby  = pd.read_excel('Activity Report 041318.xlsx', sheet_name = 4)\n",
    "ld_dock_hallway = pd.read_excel('Activity Report 041318.xlsx', sheet_name = 5)\n",
    "pedestrian  = pd.read_excel('Activity Report 041318.xlsx', sheet_name = 6)\n",
    "rear  = pd.read_excel('Activity Report 041318.xlsx', sheet_name = 7)\n",
    "left  = pd.read_excel('Activity Report 041318.xlsx', sheet_name = 8)\n",
    "ld_dock  = pd.read_excel('Activity Report 041318.xlsx', sheet_name = 9)"
   ]
  },
  {
   "cell_type": "code",
   "execution_count": 5,
   "metadata": {},
   "outputs": [],
   "source": [
    "df_concat = pd.concat([main, front, exterior, interior, lobby, ld_dock_hallway, pedestrian, rear, left, ld_dock]).reset_index()"
   ]
  },
  {
   "cell_type": "markdown",
   "metadata": {},
   "source": [
    "### 1.1)  Assume that all entries and exits at H are captured by the sensor system, please first merge the two datasets. Column Employee ID contains unique identifiers of all visitors of building H. Feel free to express your concern with the data quality, if there is any. "
   ]
  },
  {
   "cell_type": "markdown",
   "metadata": {},
   "source": [
    "- lots of missing data"
   ]
  },
  {
   "cell_type": "markdown",
   "metadata": {},
   "source": [
    "Data Cleaning"
   ]
  },
  {
   "cell_type": "code",
   "execution_count": 6,
   "metadata": {},
   "outputs": [],
   "source": [
    "df_concat['ID'] = df_concat['Employee ID']"
   ]
  },
  {
   "cell_type": "code",
   "execution_count": 7,
   "metadata": {},
   "outputs": [],
   "source": [
    "df_concat = df_concat.drop(columns = ['index', 'Employee ID'])"
   ]
  },
  {
   "cell_type": "code",
   "execution_count": 8,
   "metadata": {},
   "outputs": [],
   "source": [
    "result = pd.merge(df_concat, \n",
    "                  df[['ID', 'Floor', 'Resource Type', 'Division', 'Room']], \n",
    "                    on = 'ID', \n",
    "                    how = 'left')"
   ]
  },
  {
   "cell_type": "code",
   "execution_count": 9,
   "metadata": {},
   "outputs": [],
   "source": [
    "result.fillna('unknown', inplace=True)"
   ]
  },
  {
   "cell_type": "code",
   "execution_count": 10,
   "metadata": {},
   "outputs": [
    {
     "data": {
      "text/html": [
       "<div>\n",
       "<style scoped>\n",
       "    .dataframe tbody tr th:only-of-type {\n",
       "        vertical-align: middle;\n",
       "    }\n",
       "\n",
       "    .dataframe tbody tr th {\n",
       "        vertical-align: top;\n",
       "    }\n",
       "\n",
       "    .dataframe thead th {\n",
       "        text-align: right;\n",
       "    }\n",
       "</style>\n",
       "<table border=\"1\" class=\"dataframe\">\n",
       "  <thead>\n",
       "    <tr style=\"text-align: right;\">\n",
       "      <th></th>\n",
       "      <th>Date/Time</th>\n",
       "      <th>Door Name</th>\n",
       "      <th>ID</th>\n",
       "      <th>Floor</th>\n",
       "      <th>Resource Type</th>\n",
       "      <th>Division</th>\n",
       "      <th>Room</th>\n",
       "    </tr>\n",
       "  </thead>\n",
       "  <tbody>\n",
       "  </tbody>\n",
       "</table>\n",
       "</div>"
      ],
      "text/plain": [
       "Empty DataFrame\n",
       "Columns: [Date/Time, Door Name, ID, Floor, Resource Type, Division, Room]\n",
       "Index: []"
      ]
     },
     "execution_count": 10,
     "metadata": {},
     "output_type": "execute_result"
    }
   ],
   "source": [
    "result[pd.isnull(result).any(axis=1)]"
   ]
  },
  {
   "cell_type": "code",
   "execution_count": 11,
   "metadata": {},
   "outputs": [],
   "source": [
    "result.loc[(result['Resource Type'] == 'Contract Service Worker'), 'Floor'] = \"001\""
   ]
  },
  {
   "cell_type": "code",
   "execution_count": 12,
   "metadata": {},
   "outputs": [],
   "source": [
    "result.loc[result['Resource Type'] == 'Contract Service Worker', 'Resource Type'] = \"Contractor\"\n",
    "result.loc[((result['ID'].str.contains('T')) &\n",
    "            (result['Door Name'] != 'Rear Right Revolving Door.') & \n",
    "            (result['Door Name'] != 'Left Revolving Door.')), 'Resource Type'] = \"Contractor\""
   ]
  },
  {
   "cell_type": "code",
   "execution_count": 13,
   "metadata": {},
   "outputs": [],
   "source": [
    "#result.loc[((result['Resource Type'] == 'Contractor') & \n",
    " #           (result['Door Name'] == 'Exterior Sensor Loading Dock Door.')), 'Division'] = \"DEPT 12\""
   ]
  },
  {
   "cell_type": "code",
   "execution_count": 14,
   "metadata": {},
   "outputs": [],
   "source": [
    "#result.loc[((result['Resource Type'] == 'Contractor') & \n",
    "       #     (result['Door Name'] == 'Loading Dock Hallway Door.')), 'Division'] = \"DEPT 12\""
   ]
  },
  {
   "cell_type": "code",
   "execution_count": 15,
   "metadata": {},
   "outputs": [
    {
     "data": {
      "text/html": [
       "<div>\n",
       "<style scoped>\n",
       "    .dataframe tbody tr th:only-of-type {\n",
       "        vertical-align: middle;\n",
       "    }\n",
       "\n",
       "    .dataframe tbody tr th {\n",
       "        vertical-align: top;\n",
       "    }\n",
       "\n",
       "    .dataframe thead th {\n",
       "        text-align: right;\n",
       "    }\n",
       "</style>\n",
       "<table border=\"1\" class=\"dataframe\">\n",
       "  <thead>\n",
       "    <tr style=\"text-align: right;\">\n",
       "      <th></th>\n",
       "      <th>Date/Time</th>\n",
       "      <th>Door Name</th>\n",
       "      <th>ID</th>\n",
       "      <th>Floor</th>\n",
       "      <th>Resource Type</th>\n",
       "      <th>Division</th>\n",
       "      <th>Room</th>\n",
       "    </tr>\n",
       "  </thead>\n",
       "  <tbody>\n",
       "    <tr>\n",
       "      <th>0</th>\n",
       "      <td>2018-03-29 00:12:53</td>\n",
       "      <td>Main Entrance Revolving Door.</td>\n",
       "      <td>T138294</td>\n",
       "      <td>unknown</td>\n",
       "      <td>Contractor</td>\n",
       "      <td>unknown</td>\n",
       "      <td>unknown</td>\n",
       "    </tr>\n",
       "    <tr>\n",
       "      <th>1</th>\n",
       "      <td>2018-03-29 05:04:40</td>\n",
       "      <td>Main Entrance Revolving Door.</td>\n",
       "      <td>T148589</td>\n",
       "      <td>001</td>\n",
       "      <td>Contractor</td>\n",
       "      <td>DEPT 12</td>\n",
       "      <td></td>\n",
       "    </tr>\n",
       "    <tr>\n",
       "      <th>2</th>\n",
       "      <td>2018-03-29 05:29:30</td>\n",
       "      <td>Main Entrance Revolving Door.</td>\n",
       "      <td>135863</td>\n",
       "      <td>006</td>\n",
       "      <td>Employee</td>\n",
       "      <td>DEPT 2</td>\n",
       "      <td>0268</td>\n",
       "    </tr>\n",
       "    <tr>\n",
       "      <th>3</th>\n",
       "      <td>2018-03-29 05:30:44</td>\n",
       "      <td>Main Entrance Revolving Door.</td>\n",
       "      <td>106326</td>\n",
       "      <td>005</td>\n",
       "      <td>Employee</td>\n",
       "      <td>DEPT 2</td>\n",
       "      <td>0277</td>\n",
       "    </tr>\n",
       "    <tr>\n",
       "      <th>4</th>\n",
       "      <td>2018-03-29 05:31:49</td>\n",
       "      <td>Main Entrance Revolving Door.</td>\n",
       "      <td>134700</td>\n",
       "      <td>006</td>\n",
       "      <td>Employee</td>\n",
       "      <td>DEPT 2</td>\n",
       "      <td>0446</td>\n",
       "    </tr>\n",
       "  </tbody>\n",
       "</table>\n",
       "</div>"
      ],
      "text/plain": [
       "            Date/Time                      Door Name       ID    Floor  \\\n",
       "0 2018-03-29 00:12:53  Main Entrance Revolving Door.  T138294  unknown   \n",
       "1 2018-03-29 05:04:40  Main Entrance Revolving Door.  T148589      001   \n",
       "2 2018-03-29 05:29:30  Main Entrance Revolving Door.   135863      006   \n",
       "3 2018-03-29 05:30:44  Main Entrance Revolving Door.   106326      005   \n",
       "4 2018-03-29 05:31:49  Main Entrance Revolving Door.   134700      006   \n",
       "\n",
       "  Resource Type Division     Room  \n",
       "0    Contractor  unknown  unknown  \n",
       "1    Contractor  DEPT 12           \n",
       "2      Employee   DEPT 2     0268  \n",
       "3      Employee   DEPT 2     0277  \n",
       "4      Employee   DEPT 2     0446  "
      ]
     },
     "execution_count": 15,
     "metadata": {},
     "output_type": "execute_result"
    }
   ],
   "source": [
    "result['Date/Time'] = pd.to_datetime(result['Date/Time'])\n",
    "result.head()"
   ]
  },
  {
   "cell_type": "code",
   "execution_count": 16,
   "metadata": {},
   "outputs": [],
   "source": [
    "result = result[result['Date/Time'].dt.dayofweek < 5]"
   ]
  },
  {
   "cell_type": "code",
   "execution_count": 17,
   "metadata": {},
   "outputs": [],
   "source": [
    "result['Date/Time'] = pd.to_datetime(result['Date/Time']).dt.date\n"
   ]
  },
  {
   "cell_type": "markdown",
   "metadata": {},
   "source": [
    "#### Final Merged Data:"
   ]
  },
  {
   "cell_type": "code",
   "execution_count": 18,
   "metadata": {},
   "outputs": [
    {
     "data": {
      "text/html": [
       "<div>\n",
       "<style scoped>\n",
       "    .dataframe tbody tr th:only-of-type {\n",
       "        vertical-align: middle;\n",
       "    }\n",
       "\n",
       "    .dataframe tbody tr th {\n",
       "        vertical-align: top;\n",
       "    }\n",
       "\n",
       "    .dataframe thead th {\n",
       "        text-align: right;\n",
       "    }\n",
       "</style>\n",
       "<table border=\"1\" class=\"dataframe\">\n",
       "  <thead>\n",
       "    <tr style=\"text-align: right;\">\n",
       "      <th></th>\n",
       "      <th>Date/Time</th>\n",
       "      <th>Door Name</th>\n",
       "      <th>ID</th>\n",
       "      <th>Floor</th>\n",
       "      <th>Resource Type</th>\n",
       "      <th>Division</th>\n",
       "      <th>Room</th>\n",
       "    </tr>\n",
       "  </thead>\n",
       "  <tbody>\n",
       "    <tr>\n",
       "      <th>0</th>\n",
       "      <td>2018-03-29</td>\n",
       "      <td>Main Entrance Revolving Door.</td>\n",
       "      <td>T138294</td>\n",
       "      <td>unknown</td>\n",
       "      <td>Contractor</td>\n",
       "      <td>unknown</td>\n",
       "      <td>unknown</td>\n",
       "    </tr>\n",
       "    <tr>\n",
       "      <th>1</th>\n",
       "      <td>2018-03-29</td>\n",
       "      <td>Main Entrance Revolving Door.</td>\n",
       "      <td>T148589</td>\n",
       "      <td>001</td>\n",
       "      <td>Contractor</td>\n",
       "      <td>DEPT 12</td>\n",
       "      <td></td>\n",
       "    </tr>\n",
       "    <tr>\n",
       "      <th>2</th>\n",
       "      <td>2018-03-29</td>\n",
       "      <td>Main Entrance Revolving Door.</td>\n",
       "      <td>135863</td>\n",
       "      <td>006</td>\n",
       "      <td>Employee</td>\n",
       "      <td>DEPT 2</td>\n",
       "      <td>0268</td>\n",
       "    </tr>\n",
       "    <tr>\n",
       "      <th>3</th>\n",
       "      <td>2018-03-29</td>\n",
       "      <td>Main Entrance Revolving Door.</td>\n",
       "      <td>106326</td>\n",
       "      <td>005</td>\n",
       "      <td>Employee</td>\n",
       "      <td>DEPT 2</td>\n",
       "      <td>0277</td>\n",
       "    </tr>\n",
       "    <tr>\n",
       "      <th>4</th>\n",
       "      <td>2018-03-29</td>\n",
       "      <td>Main Entrance Revolving Door.</td>\n",
       "      <td>134700</td>\n",
       "      <td>006</td>\n",
       "      <td>Employee</td>\n",
       "      <td>DEPT 2</td>\n",
       "      <td>0446</td>\n",
       "    </tr>\n",
       "  </tbody>\n",
       "</table>\n",
       "</div>"
      ],
      "text/plain": [
       "    Date/Time                      Door Name       ID    Floor Resource Type  \\\n",
       "0  2018-03-29  Main Entrance Revolving Door.  T138294  unknown    Contractor   \n",
       "1  2018-03-29  Main Entrance Revolving Door.  T148589      001    Contractor   \n",
       "2  2018-03-29  Main Entrance Revolving Door.   135863      006      Employee   \n",
       "3  2018-03-29  Main Entrance Revolving Door.   106326      005      Employee   \n",
       "4  2018-03-29  Main Entrance Revolving Door.   134700      006      Employee   \n",
       "\n",
       "  Division     Room  \n",
       "0  unknown  unknown  \n",
       "1  DEPT 12           \n",
       "2   DEPT 2     0268  \n",
       "3   DEPT 2     0277  \n",
       "4   DEPT 2     0446  "
      ]
     },
     "execution_count": 18,
     "metadata": {},
     "output_type": "execute_result"
    }
   ],
   "source": [
    "result.head()"
   ]
  },
  {
   "cell_type": "markdown",
   "metadata": {},
   "source": [
    "### 1.2)  Calculate the number of people arriving at H per day. Then further break down the metric by ‘Resource Type’ and ‘Division’ attributes. Make a visualization of this metric using your tool of choice. "
   ]
  },
  {
   "cell_type": "code",
   "execution_count": 19,
   "metadata": {},
   "outputs": [],
   "source": [
    "by_id = result.groupby(['ID']).count().reset_index()"
   ]
  },
  {
   "cell_type": "code",
   "execution_count": 20,
   "metadata": {},
   "outputs": [],
   "source": [
    "by_id = by_id.drop(columns = ['Date/Time', 'Floor', 'Resource Type', 'Division' , 'Room'])"
   ]
  },
  {
   "cell_type": "code",
   "execution_count": 21,
   "metadata": {},
   "outputs": [
    {
     "data": {
      "text/html": [
       "<div>\n",
       "<style scoped>\n",
       "    .dataframe tbody tr th:only-of-type {\n",
       "        vertical-align: middle;\n",
       "    }\n",
       "\n",
       "    .dataframe tbody tr th {\n",
       "        vertical-align: top;\n",
       "    }\n",
       "\n",
       "    .dataframe thead th {\n",
       "        text-align: right;\n",
       "    }\n",
       "</style>\n",
       "<table border=\"1\" class=\"dataframe\">\n",
       "  <thead>\n",
       "    <tr style=\"text-align: right;\">\n",
       "      <th></th>\n",
       "      <th>Door Name</th>\n",
       "    </tr>\n",
       "  </thead>\n",
       "  <tbody>\n",
       "    <tr>\n",
       "      <th>count</th>\n",
       "      <td>2138.000000</td>\n",
       "    </tr>\n",
       "    <tr>\n",
       "      <th>mean</th>\n",
       "      <td>9.922357</td>\n",
       "    </tr>\n",
       "    <tr>\n",
       "      <th>std</th>\n",
       "      <td>10.260097</td>\n",
       "    </tr>\n",
       "    <tr>\n",
       "      <th>min</th>\n",
       "      <td>1.000000</td>\n",
       "    </tr>\n",
       "    <tr>\n",
       "      <th>25%</th>\n",
       "      <td>2.000000</td>\n",
       "    </tr>\n",
       "    <tr>\n",
       "      <th>50%</th>\n",
       "      <td>7.000000</td>\n",
       "    </tr>\n",
       "    <tr>\n",
       "      <th>75%</th>\n",
       "      <td>16.000000</td>\n",
       "    </tr>\n",
       "    <tr>\n",
       "      <th>max</th>\n",
       "      <td>192.000000</td>\n",
       "    </tr>\n",
       "  </tbody>\n",
       "</table>\n",
       "</div>"
      ],
      "text/plain": [
       "         Door Name\n",
       "count  2138.000000\n",
       "mean      9.922357\n",
       "std      10.260097\n",
       "min       1.000000\n",
       "25%       2.000000\n",
       "50%       7.000000\n",
       "75%      16.000000\n",
       "max     192.000000"
      ]
     },
     "execution_count": 21,
     "metadata": {},
     "output_type": "execute_result"
    }
   ],
   "source": [
    "by_id.describe()"
   ]
  },
  {
   "cell_type": "code",
   "execution_count": 22,
   "metadata": {},
   "outputs": [
    {
     "data": {
      "text/plain": [
       "<matplotlib.axes._subplots.AxesSubplot at 0x183daf86748>"
      ]
     },
     "execution_count": 22,
     "metadata": {},
     "output_type": "execute_result"
    },
    {
     "data": {
      "image/png": "[encoded data removed]",
      "text/plain": [
       "<Figure size 432x288 with 1 Axes>"
      ]
     },
     "metadata": {
      "needs_background": "light"
     },
     "output_type": "display_data"
    }
   ],
   "source": [
    "by_id.plot()"
   ]
  },
  {
   "cell_type": "markdown",
   "metadata": {},
   "source": [
    "#### We have outliers; An outlier is typically more than 3 standard deviations above/below the mean; In our case; the outliers are:"
   ]
  },
  {
   "cell_type": "code",
   "execution_count": 23,
   "metadata": {},
   "outputs": [
    {
     "data": {
      "text/html": [
       "<div>\n",
       "<style scoped>\n",
       "    .dataframe tbody tr th:only-of-type {\n",
       "        vertical-align: middle;\n",
       "    }\n",
       "\n",
       "    .dataframe tbody tr th {\n",
       "        vertical-align: top;\n",
       "    }\n",
       "\n",
       "    .dataframe thead th {\n",
       "        text-align: right;\n",
       "    }\n",
       "</style>\n",
       "<table border=\"1\" class=\"dataframe\">\n",
       "  <thead>\n",
       "    <tr style=\"text-align: right;\">\n",
       "      <th></th>\n",
       "      <th>ID</th>\n",
       "      <th>Door Name</th>\n",
       "    </tr>\n",
       "  </thead>\n",
       "  <tbody>\n",
       "    <tr>\n",
       "      <th>28</th>\n",
       "      <td>105528</td>\n",
       "      <td>79</td>\n",
       "    </tr>\n",
       "    <tr>\n",
       "      <th>241</th>\n",
       "      <td>116239</td>\n",
       "      <td>92</td>\n",
       "    </tr>\n",
       "    <tr>\n",
       "      <th>1089</th>\n",
       "      <td>137087</td>\n",
       "      <td>46</td>\n",
       "    </tr>\n",
       "    <tr>\n",
       "      <th>1255</th>\n",
       "      <td>138338</td>\n",
       "      <td>47</td>\n",
       "    </tr>\n",
       "    <tr>\n",
       "      <th>1343</th>\n",
       "      <td>138598</td>\n",
       "      <td>44</td>\n",
       "    </tr>\n",
       "    <tr>\n",
       "      <th>1382</th>\n",
       "      <td>138779</td>\n",
       "      <td>42</td>\n",
       "    </tr>\n",
       "    <tr>\n",
       "      <th>1410</th>\n",
       "      <td>138862</td>\n",
       "      <td>52</td>\n",
       "    </tr>\n",
       "    <tr>\n",
       "      <th>1425</th>\n",
       "      <td>138953</td>\n",
       "      <td>42</td>\n",
       "    </tr>\n",
       "    <tr>\n",
       "      <th>1460</th>\n",
       "      <td>139180</td>\n",
       "      <td>42</td>\n",
       "    </tr>\n",
       "    <tr>\n",
       "      <th>1878</th>\n",
       "      <td>T125140</td>\n",
       "      <td>101</td>\n",
       "    </tr>\n",
       "    <tr>\n",
       "      <th>1900</th>\n",
       "      <td>T135947</td>\n",
       "      <td>120</td>\n",
       "    </tr>\n",
       "    <tr>\n",
       "      <th>1906</th>\n",
       "      <td>T137561</td>\n",
       "      <td>59</td>\n",
       "    </tr>\n",
       "    <tr>\n",
       "      <th>1907</th>\n",
       "      <td>T137583</td>\n",
       "      <td>50</td>\n",
       "    </tr>\n",
       "    <tr>\n",
       "      <th>1923</th>\n",
       "      <td>T140808</td>\n",
       "      <td>192</td>\n",
       "    </tr>\n",
       "    <tr>\n",
       "      <th>1946</th>\n",
       "      <td>T148367</td>\n",
       "      <td>52</td>\n",
       "    </tr>\n",
       "    <tr>\n",
       "      <th>1972</th>\n",
       "      <td>T151655</td>\n",
       "      <td>43</td>\n",
       "    </tr>\n",
       "    <tr>\n",
       "      <th>2046</th>\n",
       "      <td>T156227</td>\n",
       "      <td>48</td>\n",
       "    </tr>\n",
       "    <tr>\n",
       "      <th>2053</th>\n",
       "      <td>T156510</td>\n",
       "      <td>54</td>\n",
       "    </tr>\n",
       "    <tr>\n",
       "      <th>2065</th>\n",
       "      <td>T156739</td>\n",
       "      <td>50</td>\n",
       "    </tr>\n",
       "  </tbody>\n",
       "</table>\n",
       "</div>"
      ],
      "text/plain": [
       "           ID  Door Name\n",
       "28     105528         79\n",
       "241    116239         92\n",
       "1089   137087         46\n",
       "1255   138338         47\n",
       "1343   138598         44\n",
       "1382   138779         42\n",
       "1410   138862         52\n",
       "1425   138953         42\n",
       "1460   139180         42\n",
       "1878  T125140        101\n",
       "1900  T135947        120\n",
       "1906  T137561         59\n",
       "1907  T137583         50\n",
       "1923  T140808        192\n",
       "1946  T148367         52\n",
       "1972  T151655         43\n",
       "2046  T156227         48\n",
       "2053  T156510         54\n",
       "2065  T156739         50"
      ]
     },
     "execution_count": 23,
     "metadata": {},
     "output_type": "execute_result"
    }
   ],
   "source": [
    "by_id[by_id['Door Name'] > 40]"
   ]
  },
  {
   "cell_type": "markdown",
   "metadata": {},
   "source": [
    "#### The number of unique id visit per day:"
   ]
  },
  {
   "cell_type": "code",
   "execution_count": 24,
   "metadata": {},
   "outputs": [],
   "source": [
    "by_day = result.groupby(['Date/Time'])['ID'].nunique().reset_index()"
   ]
  },
  {
   "cell_type": "code",
   "execution_count": 25,
   "metadata": {},
   "outputs": [
    {
     "data": {
      "text/html": [
       "<div>\n",
       "<style scoped>\n",
       "    .dataframe tbody tr th:only-of-type {\n",
       "        vertical-align: middle;\n",
       "    }\n",
       "\n",
       "    .dataframe tbody tr th {\n",
       "        vertical-align: top;\n",
       "    }\n",
       "\n",
       "    .dataframe thead th {\n",
       "        text-align: right;\n",
       "    }\n",
       "</style>\n",
       "<table border=\"1\" class=\"dataframe\">\n",
       "  <thead>\n",
       "    <tr style=\"text-align: right;\">\n",
       "      <th></th>\n",
       "      <th>Date/Time</th>\n",
       "      <th>ID</th>\n",
       "    </tr>\n",
       "  </thead>\n",
       "  <tbody>\n",
       "    <tr>\n",
       "      <th>0</th>\n",
       "      <td>2018-03-29</td>\n",
       "      <td>1131</td>\n",
       "    </tr>\n",
       "    <tr>\n",
       "      <th>1</th>\n",
       "      <td>2018-03-30</td>\n",
       "      <td>896</td>\n",
       "    </tr>\n",
       "    <tr>\n",
       "      <th>2</th>\n",
       "      <td>2018-04-02</td>\n",
       "      <td>1111</td>\n",
       "    </tr>\n",
       "    <tr>\n",
       "      <th>3</th>\n",
       "      <td>2018-04-03</td>\n",
       "      <td>1251</td>\n",
       "    </tr>\n",
       "    <tr>\n",
       "      <th>4</th>\n",
       "      <td>2018-04-04</td>\n",
       "      <td>1193</td>\n",
       "    </tr>\n",
       "    <tr>\n",
       "      <th>5</th>\n",
       "      <td>2018-04-05</td>\n",
       "      <td>1171</td>\n",
       "    </tr>\n",
       "    <tr>\n",
       "      <th>6</th>\n",
       "      <td>2018-04-06</td>\n",
       "      <td>1022</td>\n",
       "    </tr>\n",
       "    <tr>\n",
       "      <th>7</th>\n",
       "      <td>2018-04-09</td>\n",
       "      <td>1162</td>\n",
       "    </tr>\n",
       "    <tr>\n",
       "      <th>8</th>\n",
       "      <td>2018-04-10</td>\n",
       "      <td>1195</td>\n",
       "    </tr>\n",
       "  </tbody>\n",
       "</table>\n",
       "</div>"
      ],
      "text/plain": [
       "    Date/Time    ID\n",
       "0  2018-03-29  1131\n",
       "1  2018-03-30   896\n",
       "2  2018-04-02  1111\n",
       "3  2018-04-03  1251\n",
       "4  2018-04-04  1193\n",
       "5  2018-04-05  1171\n",
       "6  2018-04-06  1022\n",
       "7  2018-04-09  1162\n",
       "8  2018-04-10  1195"
      ]
     },
     "execution_count": 25,
     "metadata": {},
     "output_type": "execute_result"
    }
   ],
   "source": [
    "by_day "
   ]
  },
  {
   "cell_type": "code",
   "execution_count": 26,
   "metadata": {},
   "outputs": [
    {
     "data": {
      "text/plain": [
       "[<matplotlib.lines.Line2D at 0x183db41d0b8>]"
      ]
     },
     "execution_count": 26,
     "metadata": {},
     "output_type": "execute_result"
    },
    {
     "data": {
      "image/png": "[encoded data removed]",
      "text/plain": [
       "<Figure size 432x288 with 1 Axes>"
      ]
     },
     "metadata": {
      "needs_background": "light"
     },
     "output_type": "display_data"
    }
   ],
   "source": [
    "plt.xticks(rotation = 40)\n",
    "plt.title('Number of people arriving at H per day without the weekends')\n",
    "plt.plot(by_day['Date/Time'], by_day['ID'])"
   ]
  },
  {
   "cell_type": "markdown",
   "metadata": {},
   "source": [
    "#### Number of unique visits per resource type per day:"
   ]
  },
  {
   "cell_type": "code",
   "execution_count": 27,
   "metadata": {},
   "outputs": [],
   "source": [
    "by_day_further_res = result.groupby(['Date/Time', 'Resource Type'])['ID'].nunique().reset_index()"
   ]
  },
  {
   "cell_type": "code",
   "execution_count": 28,
   "metadata": {},
   "outputs": [
    {
     "data": {
      "text/html": [
       "<div>\n",
       "<style scoped>\n",
       "    .dataframe tbody tr th:only-of-type {\n",
       "        vertical-align: middle;\n",
       "    }\n",
       "\n",
       "    .dataframe tbody tr th {\n",
       "        vertical-align: top;\n",
       "    }\n",
       "\n",
       "    .dataframe thead th {\n",
       "        text-align: right;\n",
       "    }\n",
       "</style>\n",
       "<table border=\"1\" class=\"dataframe\">\n",
       "  <thead>\n",
       "    <tr style=\"text-align: right;\">\n",
       "      <th></th>\n",
       "      <th>Date/Time</th>\n",
       "      <th>Resource Type</th>\n",
       "      <th>ID</th>\n",
       "    </tr>\n",
       "  </thead>\n",
       "  <tbody>\n",
       "    <tr>\n",
       "      <th>0</th>\n",
       "      <td>2018-03-29</td>\n",
       "      <td>Contractor</td>\n",
       "      <td>81</td>\n",
       "    </tr>\n",
       "    <tr>\n",
       "      <th>1</th>\n",
       "      <td>2018-03-29</td>\n",
       "      <td>Employee</td>\n",
       "      <td>794</td>\n",
       "    </tr>\n",
       "    <tr>\n",
       "      <th>2</th>\n",
       "      <td>2018-03-29</td>\n",
       "      <td>Vendor Rep</td>\n",
       "      <td>1</td>\n",
       "    </tr>\n",
       "    <tr>\n",
       "      <th>3</th>\n",
       "      <td>2018-03-29</td>\n",
       "      <td>unknown</td>\n",
       "      <td>277</td>\n",
       "    </tr>\n",
       "    <tr>\n",
       "      <th>4</th>\n",
       "      <td>2018-03-30</td>\n",
       "      <td>Contractor</td>\n",
       "      <td>56</td>\n",
       "    </tr>\n",
       "  </tbody>\n",
       "</table>\n",
       "</div>"
      ],
      "text/plain": [
       "    Date/Time Resource Type   ID\n",
       "0  2018-03-29    Contractor   81\n",
       "1  2018-03-29      Employee  794\n",
       "2  2018-03-29    Vendor Rep    1\n",
       "3  2018-03-29       unknown  277\n",
       "4  2018-03-30    Contractor   56"
      ]
     },
     "execution_count": 28,
     "metadata": {},
     "output_type": "execute_result"
    }
   ],
   "source": [
    "by_day_further_res.head()"
   ]
  },
  {
   "cell_type": "markdown",
   "metadata": {},
   "source": [
    "#### Number of unique visits per division type per day:"
   ]
  },
  {
   "cell_type": "code",
   "execution_count": 29,
   "metadata": {},
   "outputs": [],
   "source": [
    "by_day_further_division = result.groupby(['Date/Time', 'Division'])['ID'].nunique().reset_index()"
   ]
  },
  {
   "cell_type": "code",
   "execution_count": 30,
   "metadata": {},
   "outputs": [
    {
     "data": {
      "text/html": [
       "<div>\n",
       "<style scoped>\n",
       "    .dataframe tbody tr th:only-of-type {\n",
       "        vertical-align: middle;\n",
       "    }\n",
       "\n",
       "    .dataframe tbody tr th {\n",
       "        vertical-align: top;\n",
       "    }\n",
       "\n",
       "    .dataframe thead th {\n",
       "        text-align: right;\n",
       "    }\n",
       "</style>\n",
       "<table border=\"1\" class=\"dataframe\">\n",
       "  <thead>\n",
       "    <tr style=\"text-align: right;\">\n",
       "      <th></th>\n",
       "      <th>Date/Time</th>\n",
       "      <th>Division</th>\n",
       "      <th>ID</th>\n",
       "    </tr>\n",
       "  </thead>\n",
       "  <tbody>\n",
       "    <tr>\n",
       "      <th>0</th>\n",
       "      <td>2018-03-29</td>\n",
       "      <td>DEPT 1</td>\n",
       "      <td>9</td>\n",
       "    </tr>\n",
       "    <tr>\n",
       "      <th>1</th>\n",
       "      <td>2018-03-29</td>\n",
       "      <td>DEPT 10</td>\n",
       "      <td>1</td>\n",
       "    </tr>\n",
       "    <tr>\n",
       "      <th>2</th>\n",
       "      <td>2018-03-29</td>\n",
       "      <td>DEPT 12</td>\n",
       "      <td>6</td>\n",
       "    </tr>\n",
       "    <tr>\n",
       "      <th>3</th>\n",
       "      <td>2018-03-29</td>\n",
       "      <td>DEPT 2</td>\n",
       "      <td>799</td>\n",
       "    </tr>\n",
       "    <tr>\n",
       "      <th>4</th>\n",
       "      <td>2018-03-29</td>\n",
       "      <td>DEPT 5</td>\n",
       "      <td>6</td>\n",
       "    </tr>\n",
       "  </tbody>\n",
       "</table>\n",
       "</div>"
      ],
      "text/plain": [
       "    Date/Time Division   ID\n",
       "0  2018-03-29   DEPT 1    9\n",
       "1  2018-03-29  DEPT 10    1\n",
       "2  2018-03-29  DEPT 12    6\n",
       "3  2018-03-29   DEPT 2  799\n",
       "4  2018-03-29   DEPT 5    6"
      ]
     },
     "execution_count": 30,
     "metadata": {},
     "output_type": "execute_result"
    }
   ],
   "source": [
    "by_day_further_division.head()"
   ]
  },
  {
   "cell_type": "code",
   "execution_count": 31,
   "metadata": {},
   "outputs": [
    {
     "data": {
      "image/png": "[encoded data removed]",
      "text/plain": [
       "<Figure size 432x288 with 1 Axes>"
      ]
     },
     "metadata": {},
     "output_type": "display_data"
    }
   ],
   "source": [
    "sns.set(style=\"darkgrid\")\n",
    "\n",
    "g = sns.lineplot(x=\"Date/Time\", y=\"ID\", hue = 'Division', data= by_day_further_division,\n",
    "                    palette=\"pastel\", ci=None)\n",
    "sns.set(rc={'figure.figsize':(11.7,8.27)})\n",
    "#g.despine(left=True)\n",
    "#g.set_ylabels('Number of visits')\n",
    "#g.set_xlabels(\"Date\")\n",
    "plt.xticks(rotation = 40)\n",
    "plt.title('Number of visits by division')\n",
    "\n",
    "plt.show()"
   ]
  },
  {
   "cell_type": "code",
   "execution_count": 32,
   "metadata": {},
   "outputs": [],
   "source": [
    "by_day_further = result.groupby(['Date/Time', 'Resource Type', 'Division'])['ID'].nunique().reset_index()"
   ]
  },
  {
   "cell_type": "code",
   "execution_count": 33,
   "metadata": {},
   "outputs": [
    {
     "data": {
      "text/html": [
       "<div>\n",
       "<style scoped>\n",
       "    .dataframe tbody tr th:only-of-type {\n",
       "        vertical-align: middle;\n",
       "    }\n",
       "\n",
       "    .dataframe tbody tr th {\n",
       "        vertical-align: top;\n",
       "    }\n",
       "\n",
       "    .dataframe thead th {\n",
       "        text-align: right;\n",
       "    }\n",
       "</style>\n",
       "<table border=\"1\" class=\"dataframe\">\n",
       "  <thead>\n",
       "    <tr style=\"text-align: right;\">\n",
       "      <th></th>\n",
       "      <th>Date/Time</th>\n",
       "      <th>Resource Type</th>\n",
       "      <th>Division</th>\n",
       "      <th>ID</th>\n",
       "    </tr>\n",
       "  </thead>\n",
       "  <tbody>\n",
       "    <tr>\n",
       "      <th>0</th>\n",
       "      <td>2018-03-29</td>\n",
       "      <td>Contractor</td>\n",
       "      <td>DEPT 12</td>\n",
       "      <td>6</td>\n",
       "    </tr>\n",
       "    <tr>\n",
       "      <th>1</th>\n",
       "      <td>2018-03-29</td>\n",
       "      <td>Contractor</td>\n",
       "      <td>DEPT 2</td>\n",
       "      <td>22</td>\n",
       "    </tr>\n",
       "    <tr>\n",
       "      <th>2</th>\n",
       "      <td>2018-03-29</td>\n",
       "      <td>Contractor</td>\n",
       "      <td>DEPT 9</td>\n",
       "      <td>6</td>\n",
       "    </tr>\n",
       "    <tr>\n",
       "      <th>3</th>\n",
       "      <td>2018-03-29</td>\n",
       "      <td>Contractor</td>\n",
       "      <td>unknown</td>\n",
       "      <td>47</td>\n",
       "    </tr>\n",
       "    <tr>\n",
       "      <th>4</th>\n",
       "      <td>2018-03-29</td>\n",
       "      <td>Employee</td>\n",
       "      <td>DEPT 1</td>\n",
       "      <td>9</td>\n",
       "    </tr>\n",
       "  </tbody>\n",
       "</table>\n",
       "</div>"
      ],
      "text/plain": [
       "    Date/Time Resource Type Division  ID\n",
       "0  2018-03-29    Contractor  DEPT 12   6\n",
       "1  2018-03-29    Contractor   DEPT 2  22\n",
       "2  2018-03-29    Contractor   DEPT 9   6\n",
       "3  2018-03-29    Contractor  unknown  47\n",
       "4  2018-03-29      Employee   DEPT 1   9"
      ]
     },
     "execution_count": 33,
     "metadata": {},
     "output_type": "execute_result"
    }
   ],
   "source": [
    "by_day_further.head()"
   ]
  },
  {
   "cell_type": "code",
   "execution_count": 40,
   "metadata": {},
   "outputs": [
    {
     "data": {
      "image/png": "[encoded data removed]",
      "text/plain": [
       "<Figure size 818.475x720 with 1 Axes>"
      ]
     },
     "metadata": {},
     "output_type": "display_data"
    }
   ],
   "source": [
    "sns.set(style=\"darkgrid\")\n",
    "\n",
    "g = sns.factorplot(x=\"Date/Time\", y=\"ID\", hue = 'Resource Type', data= by_day_further_res,\n",
    "                   size=10, kind=\"bar\", palette=\"pastel\", ci=None)\n",
    "g.despine(left=True)\n",
    "g.set_ylabels('Number of visits')\n",
    "g.set_xlabels(\"Day\")\n",
    "plt.xticks(rotation = 40)\n",
    "plt.title('Barplot: Number of visits by division')\n",
    "plt.show()"
   ]
  },
  {
   "cell_type": "markdown",
   "metadata": {},
   "source": [
    "### 1.3)  Now look at employees who are assigned to H, propose a method to categorize them based on their visits to H. "
   ]
  },
  {
   "cell_type": "markdown",
   "metadata": {},
   "source": [
    "The employees can be categorised by:\n",
    "- resource type - employees or contractors\n",
    "- frequent/non-frequent visitors of building H - more than 1 standard dev of the mean is a frequent visitor\n",
    "- by division - Dep 2 (most employees belong to this department) and others\n"
   ]
  },
  {
   "cell_type": "markdown",
   "metadata": {},
   "source": [
    "### 2. Merge the badge data with seat assignment data \n"
   ]
  },
  {
   "cell_type": "markdown",
   "metadata": {},
   "source": [
    "merged_tables = pd.merge(badge_swipe, \n",
    "                  badge_assignment, \n",
    "                    on = 'badge_id', \n",
    "                    how = 'left')"
   ]
  },
  {
   "cell_type": "markdown",
   "metadata": {},
   "source": [
    "### 2.1)  Why do we need to use seat assignment (hr) information? If a client does not send their hr files for privacy reason, could you provide a method to estimate the seat assignment only based on badge data? (You can provide python implementation using the badge dataset from ’Activity Report 041318.xlsx’) "
   ]
  },
  {
   "cell_type": "code",
   "execution_count": 35,
   "metadata": {},
   "outputs": [],
   "source": [
    "dff = pd.DataFrame()"
   ]
  },
  {
   "cell_type": "code",
   "execution_count": 36,
   "metadata": {},
   "outputs": [],
   "source": [
    "dff['Date/Time'] =result['Date/Time'].astype('category').cat.codes\n",
    "dff['Door Name'] =result['Door Name'].astype('category').cat.codes\n",
    "dff['ID'] =result['ID'].astype('category').cat.codes\n",
    "dff['Floor'] = result['Floor'].astype('category').cat.codes\n",
    "dff['Resource Type'] = result['Resource Type'].astype('category').cat.codes\n",
    "dff['Division'] = result['Division'].astype('category').cat.codes\n",
    "dff['Room'] = result['Room'].astype('category').cat.codes"
   ]
  },
  {
   "cell_type": "code",
   "execution_count": 37,
   "metadata": {},
   "outputs": [
    {
     "data": {
      "text/html": [
       "<div>\n",
       "<style scoped>\n",
       "    .dataframe tbody tr th:only-of-type {\n",
       "        vertical-align: middle;\n",
       "    }\n",
       "\n",
       "    .dataframe tbody tr th {\n",
       "        vertical-align: top;\n",
       "    }\n",
       "\n",
       "    .dataframe thead th {\n",
       "        text-align: right;\n",
       "    }\n",
       "</style>\n",
       "<table border=\"1\" class=\"dataframe\">\n",
       "  <thead>\n",
       "    <tr style=\"text-align: right;\">\n",
       "      <th></th>\n",
       "      <th>Date/Time</th>\n",
       "      <th>Door Name</th>\n",
       "      <th>ID</th>\n",
       "      <th>Floor</th>\n",
       "      <th>Resource Type</th>\n",
       "      <th>Division</th>\n",
       "      <th>Room</th>\n",
       "    </tr>\n",
       "  </thead>\n",
       "  <tbody>\n",
       "    <tr>\n",
       "      <th>Date/Time</th>\n",
       "      <td>1.000000</td>\n",
       "      <td>-0.007726</td>\n",
       "      <td>0.001356</td>\n",
       "      <td>0.027344</td>\n",
       "      <td>0.022780</td>\n",
       "      <td>0.031731</td>\n",
       "      <td>0.020350</td>\n",
       "    </tr>\n",
       "    <tr>\n",
       "      <th>Door Name</th>\n",
       "      <td>-0.007726</td>\n",
       "      <td>1.000000</td>\n",
       "      <td>-0.076447</td>\n",
       "      <td>-0.067064</td>\n",
       "      <td>0.115214</td>\n",
       "      <td>-0.073643</td>\n",
       "      <td>-0.041414</td>\n",
       "    </tr>\n",
       "    <tr>\n",
       "      <th>ID</th>\n",
       "      <td>0.001356</td>\n",
       "      <td>-0.076447</td>\n",
       "      <td>1.000000</td>\n",
       "      <td>-0.028224</td>\n",
       "      <td>-0.280414</td>\n",
       "      <td>0.097170</td>\n",
       "      <td>0.010345</td>\n",
       "    </tr>\n",
       "    <tr>\n",
       "      <th>Floor</th>\n",
       "      <td>0.027344</td>\n",
       "      <td>-0.067064</td>\n",
       "      <td>-0.028224</td>\n",
       "      <td>1.000000</td>\n",
       "      <td>0.469498</td>\n",
       "      <td>0.711324</td>\n",
       "      <td>0.494921</td>\n",
       "    </tr>\n",
       "    <tr>\n",
       "      <th>Resource Type</th>\n",
       "      <td>0.022780</td>\n",
       "      <td>0.115214</td>\n",
       "      <td>-0.280414</td>\n",
       "      <td>0.469498</td>\n",
       "      <td>1.000000</td>\n",
       "      <td>0.601525</td>\n",
       "      <td>0.400768</td>\n",
       "    </tr>\n",
       "    <tr>\n",
       "      <th>Division</th>\n",
       "      <td>0.031731</td>\n",
       "      <td>-0.073643</td>\n",
       "      <td>0.097170</td>\n",
       "      <td>0.711324</td>\n",
       "      <td>0.601525</td>\n",
       "      <td>1.000000</td>\n",
       "      <td>0.593644</td>\n",
       "    </tr>\n",
       "    <tr>\n",
       "      <th>Room</th>\n",
       "      <td>0.020350</td>\n",
       "      <td>-0.041414</td>\n",
       "      <td>0.010345</td>\n",
       "      <td>0.494921</td>\n",
       "      <td>0.400768</td>\n",
       "      <td>0.593644</td>\n",
       "      <td>1.000000</td>\n",
       "    </tr>\n",
       "  </tbody>\n",
       "</table>\n",
       "</div>"
      ],
      "text/plain": [
       "               Date/Time  Door Name        ID     Floor  Resource Type  \\\n",
       "Date/Time       1.000000  -0.007726  0.001356  0.027344       0.022780   \n",
       "Door Name      -0.007726   1.000000 -0.076447 -0.067064       0.115214   \n",
       "ID              0.001356  -0.076447  1.000000 -0.028224      -0.280414   \n",
       "Floor           0.027344  -0.067064 -0.028224  1.000000       0.469498   \n",
       "Resource Type   0.022780   0.115214 -0.280414  0.469498       1.000000   \n",
       "Division        0.031731  -0.073643  0.097170  0.711324       0.601525   \n",
       "Room            0.020350  -0.041414  0.010345  0.494921       0.400768   \n",
       "\n",
       "               Division      Room  \n",
       "Date/Time      0.031731  0.020350  \n",
       "Door Name     -0.073643 -0.041414  \n",
       "ID             0.097170  0.010345  \n",
       "Floor          0.711324  0.494921  \n",
       "Resource Type  0.601525  0.400768  \n",
       "Division       1.000000  0.593644  \n",
       "Room           0.593644  1.000000  "
      ]
     },
     "execution_count": 37,
     "metadata": {},
     "output_type": "execute_result"
    }
   ],
   "source": [
    "dff.corr(method='pearson')\n"
   ]
  },
  {
   "cell_type": "code",
   "execution_count": 38,
   "metadata": {},
   "outputs": [],
   "source": [
    "#result.to_excel(r'Downloads\\File Nameff.xlsx') "
   ]
  },
  {
   "cell_type": "markdown",
   "metadata": {},
   "source": [
    "No strong correlation between any of the features in the badge data vs employee data;\n",
    "That means that we can predict only limited information based on the badge data:\n",
    "- If id starts with 'T'; the Resource Type is either a ' Contractor' or a 'Vendor Rep'\n"
   ]
  },
  {
   "cell_type": "markdown",
   "metadata": {},
   "source": [
    "If we have more information about the location of those doors in relation to the rooms/floors as well as the event type(enter or exit), we can assume whete the employee is located based on the time difference between enter and exit and the exact door he/she enters the building from."
   ]
  },
  {
   "cell_type": "markdown",
   "metadata": {},
   "source": [
    "### 2.2)  Give an example, Client A normally sends us their badge data weekly, and seat assignment data monthly. \n",
    "A tells us that they only offer us the updated assignment data every month. For example, if one employee is reassigned to another department or they have new employees coming this month, they will update us, and for those people without changing assignment will not appear in this month’s seat assignment table any more. They keep the data schema consistent, so you do not need to worry about concatenating any historical data when you need to track backwards. As seen from the client’s datasets’ schema, could you provide a sql query/ python implementation to merge them? Hint: (Please feel free to add any new columns if you think is necessary.) \n"
   ]
  },
  {
   "cell_type": "markdown",
   "metadata": {},
   "source": [
    "ALTER TABLE Employee_Att_template\n",
    "  ADD timestampcol timestamp\n",
    "\n",
    "\n",
    "Select * \n",
    "from Employee_Att_this_month\n",
    "Union \n",
    "Select * \n",
    "from Employee_att_prev_month\n",
    "Where timestampcol < DATEADD(Day,-30,GETDATE())\n"
   ]
  },
  {
   "cell_type": "code",
   "execution_count": null,
   "metadata": {},
   "outputs": [],
   "source": []
  }
 ],
 "metadata": {
  "kernelspec": {
   "display_name": "Python 3",
   "language": "python",
   "name": "python3"
  },
  "language_info": {
   "codemirror_mode": {
    "name": "ipython",
    "version": 3
   },
   "file_extension": ".py",
   "mimetype": "text/x-python",
   "name": "python",
   "nbconvert_exporter": "python",
   "pygments_lexer": "ipython3",
   "version": "3.7.3"
  }
 },
 "nbformat": 4,
 "nbformat_minor": 2
}
